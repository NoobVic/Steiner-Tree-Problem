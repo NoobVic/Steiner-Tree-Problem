{
 "cells": [
  {
   "cell_type": "code",
   "execution_count": 1,
   "id": "60ac330a",
   "metadata": {},
   "outputs": [],
   "source": [
    "def view(log):\n",
    "    f = open(path+log, \"r\")\n",
    "    lines = f.readlines()\n",
    "    ilp_line = lines[1]\n",
    "    lp_line = lines[3]\n",
    "    ilp_c = float(ilp_line.split()[-1])\n",
    "    lp_c = float(lp_line.split()[-1])\n",
    "    f.close()\n",
    "    return (ilp_c == lp_c)"
   ]
  },
  {
   "cell_type": "code",
   "execution_count": 3,
   "id": "dff06f1d",
   "metadata": {},
   "outputs": [
    {
     "name": "stdout",
     "output_type": "stream",
     "text": [
      "The runtime of ILP is: 0.2947261333465576\n",
      "\n",
      "The solution cost of ILP is: 1366.0\n",
      "\n",
      "The runtime of LP is: 0.2443559169769287\n",
      "\n",
      "The solution cost of LP is: 1329.0\n",
      "\n"
     ]
    },
    {
     "ename": "ValueError",
     "evalue": "could not convert string to float: 'is:'",
     "output_type": "error",
     "traceback": [
      "\u001b[1;31m---------------------------------------------------------------------------\u001b[0m",
      "\u001b[1;31mValueError\u001b[0m                                Traceback (most recent call last)",
      "\u001b[1;32m~\\AppData\\Local\\Temp/ipykernel_6720/1939219084.py\u001b[0m in \u001b[0;36m<module>\u001b[1;34m\u001b[0m\n\u001b[0;32m     12\u001b[0m         \u001b[1;32mfor\u001b[0m \u001b[0mline\u001b[0m \u001b[1;32min\u001b[0m \u001b[0mlines\u001b[0m\u001b[1;33m:\u001b[0m\u001b[1;33m\u001b[0m\u001b[1;33m\u001b[0m\u001b[0m\n\u001b[0;32m     13\u001b[0m             \u001b[0mparts\u001b[0m \u001b[1;33m=\u001b[0m \u001b[0mline\u001b[0m\u001b[1;33m.\u001b[0m\u001b[0msplit\u001b[0m\u001b[1;33m(\u001b[0m\u001b[1;33m)\u001b[0m\u001b[1;33m\u001b[0m\u001b[1;33m\u001b[0m\u001b[0m\n\u001b[1;32m---> 14\u001b[1;33m             \u001b[1;32mif\u001b[0m \u001b[0mfloat\u001b[0m\u001b[1;33m(\u001b[0m\u001b[0mparts\u001b[0m\u001b[1;33m[\u001b[0m\u001b[1;33m-\u001b[0m\u001b[1;36m1\u001b[0m\u001b[1;33m]\u001b[0m\u001b[1;33m)\u001b[0m \u001b[1;33m!=\u001b[0m \u001b[1;36m0\u001b[0m\u001b[1;33m:\u001b[0m\u001b[1;33m\u001b[0m\u001b[1;33m\u001b[0m\u001b[0m\n\u001b[0m\u001b[0;32m     15\u001b[0m                 \u001b[0mprint\u001b[0m\u001b[1;33m(\u001b[0m\u001b[0mline\u001b[0m\u001b[1;33m)\u001b[0m\u001b[1;33m\u001b[0m\u001b[1;33m\u001b[0m\u001b[0m\n\u001b[0;32m     16\u001b[0m         \u001b[0mf\u001b[0m\u001b[1;33m.\u001b[0m\u001b[0mclose\u001b[0m\u001b[1;33m(\u001b[0m\u001b[1;33m)\u001b[0m\u001b[1;33m\u001b[0m\u001b[1;33m\u001b[0m\u001b[0m\n",
      "\u001b[1;31mValueError\u001b[0m: could not convert string to float: 'is:'"
     ]
    }
   ],
   "source": [
    "import os\n",
    "path = \"../log/\"\n",
    "logs = os.listdir(path)\n",
    "tc = 0\n",
    "fc = 0\n",
    "for log in logs:\n",
    "    if view(log):\n",
    "        tc+=1\n",
    "    else:\n",
    "        f = open(path+log, \"r\")\n",
    "        lines = f.readlines()\n",
    "        for line in lines:\n",
    "            parts = line.split()\n",
    "            if float(parts[-1]) != 0:\n",
    "                print(line)\n",
    "        f.close()\n",
    "print(tc, fc)"
   ]
  },
  {
   "cell_type": "code",
   "execution_count": null,
   "id": "1545422d",
   "metadata": {},
   "outputs": [],
   "source": []
  },
  {
   "cell_type": "code",
   "execution_count": null,
   "id": "4bef58c6",
   "metadata": {},
   "outputs": [],
   "source": []
  }
 ],
 "metadata": {
  "kernelspec": {
   "display_name": "Python 3 (ipykernel)",
   "language": "python",
   "name": "python3"
  },
  "language_info": {
   "codemirror_mode": {
    "name": "ipython",
    "version": 3
   },
   "file_extension": ".py",
   "mimetype": "text/x-python",
   "name": "python",
   "nbconvert_exporter": "python",
   "pygments_lexer": "ipython3",
   "version": "3.9.5"
  }
 },
 "nbformat": 4,
 "nbformat_minor": 5
}
