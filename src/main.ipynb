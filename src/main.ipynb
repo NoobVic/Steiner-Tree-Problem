{
 "cells": [
  {
   "cell_type": "code",
   "execution_count": 1,
   "metadata": {},
   "outputs": [],
   "source": [
    "from script.formulation import *\n",
    "from script.functions import *\n",
    "import pandas as pd\n",
    "\n",
    "from sklearn.svm import SVC\n",
    "from sklearn.ensemble import RandomForestClassifier\n",
    "from sklearn.linear_model import LogisticRegression\n",
    "import matplotlib.pyplot as plt\n",
    "from sklearn.metrics import confusion_matrix"
   ]
  },
  {
   "cell_type": "code",
   "execution_count": 2,
   "metadata": {},
   "outputs": [],
   "source": [
    "# Prepare for paths\n",
    "filenames = get_selected_files()\n",
    "ds_paths = dict(zip(filenames, get_paths(filenames, 'ds')))\n",
    "df_paths = dict(zip(filenames, get_paths(filenames, 'df')))\n",
    "log_paths = dict(zip(filenames, get_paths(filenames, 'log')))\n",
    "test_samples = ['i160-314',\n",
    "                'i160-245',\n",
    "                'i160-313',\n",
    "                'i160-242',\n",
    "                'i160-241',\n",
    "                'i160-244',\n",
    "                'i160-343',\n",
    "                'i160-344',\n",
    "                'i160-341',\n",
    "                'i160-345',\n",
    "                'i160-342']"
   ]
  },
  {
   "cell_type": "code",
   "execution_count": 3,
   "metadata": {},
   "outputs": [],
   "source": [
    "# Read dataframes\n",
    "train_list = []\n",
    "test_list = []\n",
    "runtimes = {}\n",
    "for file in filenames:\n",
    "    tmp_df, runtime = dataframe_generate(ds_paths[file], log_paths[file])\n",
    "    if file in test_samples:\n",
    "        test_list.append(tmp_df)\n",
    "    else:\n",
    "        train_list.append(tmp_df)\n",
    "    runtimes[file] = runtime\n",
    "df_train = pd.concat(train_list)\n",
    "df_test = pd.concat(test_list)"
   ]
  },
  {
   "cell_type": "code",
   "execution_count": 4,
   "metadata": {},
   "outputs": [],
   "source": [
    "# Save the runtime\n",
    "df_runtime = pd.DataFrame(\n",
    "    {'Filename' : runtimes.keys(), \n",
    "    'Runtime' : runtimes.values()})\n",
    "df_runtime.to_csv(\"feature_runtimes.csv\")"
   ]
  },
  {
   "cell_type": "code",
   "execution_count": 5,
   "metadata": {},
   "outputs": [],
   "source": [
    "# Prepare the train, test set for Evaluation 1\n",
    "x_train, y_train = split_x_y(df_train)\n",
    "x_test, y_test = split_x_y(df_test)"
   ]
  },
  {
   "cell_type": "code",
   "execution_count": 6,
   "metadata": {},
   "outputs": [],
   "source": [
    "clfs = {\n",
    "    \"Support Vector Machine\" : SVC(\n",
    "        class_weight='balanced', probability=True, random_state=0),\n",
    "    \"Random Forest\" : RandomForestClassifier(class_weight='balanced'),\n",
    "    \"Logistic Regression\" : LogisticRegression(\n",
    "        class_weight='balanced', random_state=0),\n",
    "}"
   ]
  },
  {
   "cell_type": "code",
   "execution_count": 7,
   "metadata": {},
   "outputs": [
    {
     "name": "stdout",
     "output_type": "stream",
     "text": [
      "Threshold: 0.0 FN rate: 0.0 Pruning Rate: 0.0 %\n",
      "Threshold: 0.05 FN rate: 0.0 Pruning Rate: 0.0 %\n",
      "Threshold: 0.1 FN rate: 0.01 Pruning Rate: 10.53 %\n",
      "Threshold: 0.15 FN rate: 0.03 Pruning Rate: 57.43 %\n",
      "Threshold: 0.2 FN rate: 0.04 Pruning Rate: 61.64 %\n",
      "Threshold: 0.25 FN rate: 0.1 Pruning Rate: 82.11 %\n",
      "Threshold: 0.3 FN rate: 0.14 Pruning Rate: 85.12 %\n",
      "Threshold: 0.35 FN rate: 0.19 Pruning Rate: 88.16 %\n",
      "Threshold: 0.4 FN rate: 0.23 Pruning Rate: 92.65 %\n",
      "Threshold: 0.45 FN rate: 0.25 Pruning Rate: 93.78 %\n",
      "Threshold: 0.5 FN rate: 0.3 Pruning Rate: 94.83 %\n",
      "Threshold: 0.55 FN rate: 0.35 Pruning Rate: 95.54 %\n",
      "Threshold: 0.6 FN rate: 0.38 Pruning Rate: 96.11 %\n",
      "Threshold: 0.65 FN rate: 0.43 Pruning Rate: 96.67 %\n",
      "Threshold: 0.7 FN rate: 0.48 Pruning Rate: 97.26 %\n",
      "Threshold: 0.75 FN rate: 0.52 Pruning Rate: 97.62 %\n",
      "Threshold: 0.8 FN rate: 0.56 Pruning Rate: 98.01 %\n",
      "Threshold: 0.85 FN rate: 0.59 Pruning Rate: 98.31 %\n",
      "Threshold: 0.9 FN rate: 0.62 Pruning Rate: 98.58 %\n",
      "Threshold: 0.95 FN rate: 0.72 Pruning Rate: 99.08 %\n"
     ]
    }
   ],
   "source": [
    "# Adjust thresholds for LR classifier\n",
    "clfs['Logistic Regression'].fit(x_train, y_train)\n",
    "thresholds = np.arange(0,1,0.05)\n",
    "for threshold in thresholds:\n",
    "    y_pred_proba = clfs['Logistic Regression'].predict_proba(x_test)\n",
    "    y_pred = (y_pred_proba [:,1] >= threshold).astype('int')\n",
    "    tn, fp, fn, tp = confusion_matrix(y_test,y_pred).ravel()\n",
    "    print(\"Threshold:\",np.round(threshold,2), \n",
    "        \"FN rate:\", np.round(fn/(fn+tp), 2),\n",
    "        \"Pruning Rate:\", np.round(100*(fn+tn)/len(y_pred),2), '%')"
   ]
  },
  {
   "cell_type": "code",
   "execution_count": 8,
   "metadata": {},
   "outputs": [],
   "source": [
    "# Adjust thresholds for SVM classifier\n",
    "clfs['Support Vector Machine'].fit(x_train, y_train)\n",
    "thresholds = np.arange(0,0.01,0.001)\n",
    "for threshold in thresholds:\n",
    "    y_pred_proba = clfs['Support Vector Machine'].predict_proba(x_test)\n",
    "    y_pred = (y_pred_proba [:,1] >= threshold).astype('int')\n",
    "    tn, fp, fn, tp = confusion_matrix(y_test,y_pred).ravel()\n",
    "    print(\"Threshold:\",np.round(threshold,2), \n",
    "        \"FN rate:\", np.round(fn/(fn+tp), 2),\n",
    "        \"Pruning Rate:\", np.round(100*(fn+tn)/len(y_pred),2), '%')"
   ]
  },
  {
   "cell_type": "code",
   "execution_count": null,
   "metadata": {},
   "outputs": [],
   "source": [
    "\n"
   ]
  }
 ],
 "metadata": {
  "kernelspec": {
   "display_name": "Python 3.8.13 ('steiner')",
   "language": "python",
   "name": "python3"
  },
  "language_info": {
   "codemirror_mode": {
    "name": "ipython",
    "version": 3
   },
   "file_extension": ".py",
   "mimetype": "text/x-python",
   "name": "python",
   "nbconvert_exporter": "python",
   "pygments_lexer": "ipython3",
   "version": "3.8.13"
  },
  "orig_nbformat": 4,
  "vscode": {
   "interpreter": {
    "hash": "7bd1c840d57e521c54f866a0f3e92cc800821055fb8b96a1f98f7f783ab58cac"
   }
  }
 },
 "nbformat": 4,
 "nbformat_minor": 2
}
