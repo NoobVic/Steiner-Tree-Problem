{
 "cells": [
  {
   "cell_type": "code",
   "execution_count": 66,
   "id": "7ff9232c",
   "metadata": {},
   "outputs": [],
   "source": [
    "import pandas as pd\n",
    "df_path = '../df/'\n",
    "evalu = pd.read_csv('../df/'+'evaluation_1.csv', index_col=0)\n",
    "evalu = evalu.loc[evalu['ILP Objective Pruned'].notnull()]\n",
    "evalu['ILP Objective Increse %'] = 100 * (evalu['ILP Objective Pruned'] - evalu['ILP Objective'])/evalu['ILP Objective']\n",
    "evalu['ILP Runtime Decrese %'] = 100 * (evalu['ILP Runtime'] - evalu['ILP Runtime Pruned'] - evalu['FE Runtime'])/evalu['ILP Runtime']"
   ]
  },
  {
   "cell_type": "code",
   "execution_count": 71,
   "id": "6aecf232",
   "metadata": {},
   "outputs": [
    {
     "name": "stdout",
     "output_type": "stream",
     "text": [
      "\\begin{tabular}{lrrrrrrr}\n",
      "\\toprule\n",
      "{} &  ILP Objective &   ILP Runtime &  FE Runtime &  ILP Objective Pruned &  ILP Runtime Pruned &  ILP Objective Increse \\% &  ILP Runtime Decrese \\% \\\\\n",
      "\\midrule\n",
      "i160-344 &         8307.0 &  27245.214428 &   54.171017 &                8324.0 &          157.707098 &                 0.204647 &              99.222329 \\\\\n",
      "i160-244 &         5076.0 &   7762.750552 &   25.680089 &                5103.0 &           47.128251 &                 0.531915 &              99.062081 \\\\\n",
      "i160-345 &         8327.0 &  70653.843429 &   51.934421 &                8327.0 &          242.822062 &                 0.000000 &              99.582816 \\\\\n",
      "i160-343 &         8275.0 &  20897.368129 &   50.549097 &                8275.0 &          114.900505 &                 0.000000 &              99.208275 \\\\\n",
      "i160-342 &         8348.0 &  91351.384691 &   60.099658 &                8355.0 &         1384.392882 &                 0.083852 &              98.418751 \\\\\n",
      "i160-313 &         9159.0 &   3832.540745 &   15.259630 &                9159.0 &           84.731579 &                 0.000000 &              97.390994 \\\\\n",
      "i160-241 &         5086.0 &   6446.484885 &   24.782818 &                5086.0 &           32.778224 &                 0.000000 &              99.107094 \\\\\n",
      "i160-341 &         8331.0 &  52473.687999 &   53.653058 &                8331.0 &          104.738673 &                 0.000000 &              99.698150 \\\\\n",
      "i160-245 &         5084.0 &   3014.052865 &   28.052475 &                5084.0 &           15.946626 &                 0.000000 &              98.540201 \\\\\n",
      "i160-242 &         5106.0 &   4817.800565 &   27.340318 &                5106.0 &           42.810647 &                 0.000000 &              98.543921 \\\\\n",
      "\\bottomrule\n",
      "\\end{tabular}\n",
      "\n"
     ]
    }
   ],
   "source": [
    "print(evalu.to_latex(index=True))"
   ]
  },
  {
   "cell_type": "code",
   "execution_count": 74,
   "id": "b2a8a1ae",
   "metadata": {},
   "outputs": [],
   "source": [
    "import pandas as pd\n",
    "df_path = '../df/'\n",
    "evalu = pd.read_csv('../df/'+'evaluation_2.csv', index_col=0)\n",
    "evalu = evalu.loc[evalu['ILP Objective Pruned'].notnull()]\n",
    "evalu['ILP Objective Increse %'] = 100 * (evalu['ILP Objective Pruned'] - evalu['ILP Objective'])/evalu['ILP Objective']\n",
    "evalu['ILP Runtime Decrese %'] = 100 * (evalu['ILP Runtime'] - evalu['ILP Runtime Pruned'] - evalu['FE Runtime'])/evalu['ILP Runtime']"
   ]
  },
  {
   "cell_type": "code",
   "execution_count": 75,
   "id": "5995d214",
   "metadata": {},
   "outputs": [
    {
     "name": "stdout",
     "output_type": "stream",
     "text": [
      "\\begin{tabular}{lr}\n",
      "\\toprule\n",
      "{} &      i160-344 \\\\\n",
      "\\midrule\n",
      "ILP Objective           &   8307.000000 \\\\\n",
      "ILP Runtime             &  27245.214428 \\\\\n",
      "FE Runtime              &     54.171017 \\\\\n",
      "ILP Objective Pruned    &   8324.000000 \\\\\n",
      "ILP Runtime Pruned      &    332.837766 \\\\\n",
      "ILP Objective N = 1     &   8307.000000 \\\\\n",
      "ILP Runtime N = 1       &   3001.564508 \\\\\n",
      "ILP Objective N = 2     &           NaN \\\\\n",
      "ILP Runtime N = 2       &           NaN \\\\\n",
      "ILP Objective Increse \\% &      0.204647 \\\\\n",
      "ILP Runtime Decrese \\%   &     98.579535 \\\\\n",
      "\\bottomrule\n",
      "\\end{tabular}\n",
      "\n"
     ]
    }
   ],
   "source": [
    "print(evalu.loc['i160-344'].to_latex(index=True))"
   ]
  },
  {
   "cell_type": "code",
   "execution_count": null,
   "id": "9cb26f7b",
   "metadata": {},
   "outputs": [],
   "source": []
  }
 ],
 "metadata": {
  "kernelspec": {
   "display_name": "Python 3 (ipykernel)",
   "language": "python",
   "name": "python3"
  },
  "language_info": {
   "codemirror_mode": {
    "name": "ipython",
    "version": 3
   },
   "file_extension": ".py",
   "mimetype": "text/x-python",
   "name": "python",
   "nbconvert_exporter": "python",
   "pygments_lexer": "ipython3",
   "version": "3.9.5"
  }
 },
 "nbformat": 4,
 "nbformat_minor": 5
}
